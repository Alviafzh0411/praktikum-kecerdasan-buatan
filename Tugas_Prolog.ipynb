{
  "nbformat": 4,
  "nbformat_minor": 0,
  "metadata": {
    "colab": {
      "provenance": [],
      "authorship_tag": "ABX9TyMBnppOEtkoA8qQlKrg74uq",
      "include_colab_link": true
    },
    "kernelspec": {
      "name": "python3",
      "display_name": "Python 3"
    },
    "language_info": {
      "name": "python"
    }
  },
  "cells": [
    {
      "cell_type": "markdown",
      "metadata": {
        "id": "view-in-github",
        "colab_type": "text"
      },
      "source": [
        "<a href=\"https://colab.research.google.com/github/Alviafzh0411/praktikum-kecerdasan-buatan/blob/main/Tugas_Prolog.ipynb\" target=\"_parent\"><img src=\"https://colab.research.google.com/assets/colab-badge.svg\" alt=\"Open In Colab\"/></a>"
      ]
    },
    {
      "cell_type": "code",
      "execution_count": null,
      "metadata": {
        "id": "Ky3wbkZyLgTS"
      },
      "outputs": [],
      "source": [
        "ayah(john, peter).\n",
        "ayah(john, mary).\n",
        "ayah(david, liza).\n",
        "ayah(david, john).\n",
        "ayah(jack, susan).\n",
        "ayah(jack, ray).\n",
        "\n",
        "ibu(susan, peter).\n",
        "ibu(susan, mary).\n",
        "ibu(ami, liza).\n",
        "ibu(amy, john).\n",
        "ibu(karen, susan).\n",
        "ibu(karen, ray).\n",
        "\n",
        "cinta(john, susan).\n",
        "b1([p, 2, q], p).\n",
        "\n",
        "\n",
        "jack(X, Y) :- ayah(X, Temp), ayah(Temp, Y).\n",
        "karen(X, Y) :- ibu(X, Temp), ayah(Temp, Y).\n",
        "david(X, Y) :- ayah(X, Temp), ibu(Temp, Y).\n",
        "amy(X, Y) :- ibu(X, Temp), ibu(Temp, Y).\n",
        "\n",
        "a(A1, [A | b]) :- A1 is A + 1.\n",
        "a(A, [b | C]) :- a(A, C)."
      ]
    }
  ]
}